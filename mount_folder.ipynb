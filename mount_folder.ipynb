{
 "cells": [
  {
   "cell_type": "code",
   "execution_count": 16,
   "id": "834e5ce7",
   "metadata": {},
   "outputs": [
    {
     "name": "stdout",
     "output_type": "stream",
     "text": [
      "Loaded 14 HEIC images.\n",
      "Converted assets/photos/IMG_9787.HEIC → assets/photos/IMG_9787.jpg\n",
      "Converted assets/photos/IMG_1211.HEIC → assets/photos/IMG_1211.jpg\n",
      "Converted assets/photos/IMG_1191.HEIC → assets/photos/IMG_1191.jpg\n",
      "Converted assets/photos/IMG_6511.HEIC → assets/photos/IMG_6511.jpg\n",
      "Converted assets/photos/IMG_1201.HEIC → assets/photos/IMG_1201.jpg\n",
      "Converted assets/photos/IMG_9742.HEIC → assets/photos/IMG_9742.jpg\n",
      "Converted assets/photos/IMG_1189.HEIC → assets/photos/IMG_1189.jpg\n",
      "Converted assets/photos/IMG_1185.HEIC → assets/photos/IMG_1185.jpg\n",
      "Converted assets/photos/IMG_9664.HEIC → assets/photos/IMG_9664.jpg\n",
      "Converted assets/photos/IMG_9541.HEIC → assets/photos/IMG_9541.jpg\n",
      "Converted assets/photos/IMG_1208.HEIC → assets/photos/IMG_1208.jpg\n",
      "Converted assets/photos/IMG_9746.HEIC → assets/photos/IMG_9746.jpg\n",
      "Converted assets/photos/IMG_9658.HEIC → assets/photos/IMG_9658.jpg\n",
      "Converted assets/photos/IMG_9588.HEIC → assets/photos/IMG_9588.jpg\n"
     ]
    }
   ],
   "source": [
    "# Install dependencies:\n",
    "# pip install pillow-heif Pillow\n",
    "\n",
    "from PIL import Image\n",
    "import pillow_heif\n",
    "import os\n",
    "from glob import glob\n",
    "\n",
    "photos_folder = \"assets/photos\"\n",
    "heic_files = glob(os.path.join(photos_folder, \"*.HEIC\"))\n",
    "# Check if any HEIC files were found\n",
    "if not heic_files:\n",
    "    print(f\"No HEIC files found in '{photos_folder}' folder.\")\n",
    "else:\n",
    "    images = [Image.open(f) for f in heic_files]\n",
    "    print(f\"Loaded {len(images)} HEIC images.\")\n",
    "# # Register HEIF opener so Pillow can read HEIC files\n",
    "# pillow_heif.register_heif_opener()\n",
    "\n",
    "# Convert all .heic images in the photos folder to .jpg\n",
    "for heic_path in heic_files:\n",
    "    image = Image.open(heic_path)\n",
    "    jpg_path = os.path.splitext(heic_path)[0] + \".jpg\"\n",
    "    image.save(jpg_path, format=\"JPEG\")\n",
    "    print(f\"Converted {heic_path} → {jpg_path}\")\n"
   ]
  },
  {
   "cell_type": "code",
   "execution_count": 15,
   "id": "e12979f1",
   "metadata": {},
   "outputs": [
    {
     "name": "stdout",
     "output_type": "stream",
     "text": [
      "Collecting pydrive\n",
      "  Downloading PyDrive-1.3.1.tar.gz (987 kB)\n",
      "\u001b[2K     \u001b[90m━━━━━━━━━━━━━━━━━━━━━━━━━━━━━━━━━━━━━━\u001b[0m \u001b[32m987.4/987.4 kB\u001b[0m \u001b[31m10.9 MB/s\u001b[0m eta \u001b[36m0:00:00\u001b[0m\n",
      "\u001b[?25h  Preparing metadata (setup.py) ... \u001b[?25ldone\n",
      "\u001b[?25hRequirement already satisfied: google-api-python-client>=1.2 in /Users/ctuwsunlab/Documents/GitHub/Mara_IMOD/.conda/lib/python3.10/site-packages (from pydrive) (2.179.0)\n",
      "Collecting oauth2client>=4.0.0 (from pydrive)\n",
      "  Downloading oauth2client-4.1.3-py2.py3-none-any.whl.metadata (1.2 kB)\n",
      "Collecting PyYAML>=3.0 (from pydrive)\n",
      "  Downloading PyYAML-6.0.2-cp310-cp310-macosx_11_0_arm64.whl.metadata (2.1 kB)\n",
      "Requirement already satisfied: httplib2<1.0.0,>=0.19.0 in /Users/ctuwsunlab/Documents/GitHub/Mara_IMOD/.conda/lib/python3.10/site-packages (from google-api-python-client>=1.2->pydrive) (0.22.0)\n",
      "Requirement already satisfied: google-auth!=2.24.0,!=2.25.0,<3.0.0,>=1.32.0 in /Users/ctuwsunlab/Documents/GitHub/Mara_IMOD/.conda/lib/python3.10/site-packages (from google-api-python-client>=1.2->pydrive) (2.40.3)\n",
      "Requirement already satisfied: google-auth-httplib2<1.0.0,>=0.2.0 in /Users/ctuwsunlab/Documents/GitHub/Mara_IMOD/.conda/lib/python3.10/site-packages (from google-api-python-client>=1.2->pydrive) (0.2.0)\n",
      "Requirement already satisfied: google-api-core!=2.0.*,!=2.1.*,!=2.2.*,!=2.3.0,<3.0.0,>=1.31.5 in /Users/ctuwsunlab/Documents/GitHub/Mara_IMOD/.conda/lib/python3.10/site-packages (from google-api-python-client>=1.2->pydrive) (2.25.1)\n",
      "Requirement already satisfied: uritemplate<5,>=3.0.1 in /Users/ctuwsunlab/Documents/GitHub/Mara_IMOD/.conda/lib/python3.10/site-packages (from google-api-python-client>=1.2->pydrive) (4.2.0)\n",
      "Requirement already satisfied: pyasn1>=0.1.7 in /Users/ctuwsunlab/Documents/GitHub/Mara_IMOD/.conda/lib/python3.10/site-packages (from oauth2client>=4.0.0->pydrive) (0.6.1)\n",
      "Requirement already satisfied: pyasn1-modules>=0.0.5 in /Users/ctuwsunlab/Documents/GitHub/Mara_IMOD/.conda/lib/python3.10/site-packages (from oauth2client>=4.0.0->pydrive) (0.4.2)\n",
      "Requirement already satisfied: rsa>=3.1.4 in /Users/ctuwsunlab/Documents/GitHub/Mara_IMOD/.conda/lib/python3.10/site-packages (from oauth2client>=4.0.0->pydrive) (4.9.1)\n",
      "Requirement already satisfied: six>=1.6.1 in /Users/ctuwsunlab/Documents/GitHub/Mara_IMOD/.conda/lib/python3.10/site-packages (from oauth2client>=4.0.0->pydrive) (1.17.0)\n",
      "Requirement already satisfied: googleapis-common-protos<2.0.0,>=1.56.2 in /Users/ctuwsunlab/Documents/GitHub/Mara_IMOD/.conda/lib/python3.10/site-packages (from google-api-core!=2.0.*,!=2.1.*,!=2.2.*,!=2.3.0,<3.0.0,>=1.31.5->google-api-python-client>=1.2->pydrive) (1.70.0)\n",
      "Requirement already satisfied: protobuf!=3.20.0,!=3.20.1,!=4.21.0,!=4.21.1,!=4.21.2,!=4.21.3,!=4.21.4,!=4.21.5,<7.0.0,>=3.19.5 in /Users/ctuwsunlab/Documents/GitHub/Mara_IMOD/.conda/lib/python3.10/site-packages (from google-api-core!=2.0.*,!=2.1.*,!=2.2.*,!=2.3.0,<3.0.0,>=1.31.5->google-api-python-client>=1.2->pydrive) (6.31.1)\n",
      "Requirement already satisfied: proto-plus<2.0.0,>=1.22.3 in /Users/ctuwsunlab/Documents/GitHub/Mara_IMOD/.conda/lib/python3.10/site-packages (from google-api-core!=2.0.*,!=2.1.*,!=2.2.*,!=2.3.0,<3.0.0,>=1.31.5->google-api-python-client>=1.2->pydrive) (1.26.1)\n",
      "Requirement already satisfied: requests<3.0.0,>=2.18.0 in /Users/ctuwsunlab/Documents/GitHub/Mara_IMOD/.conda/lib/python3.10/site-packages (from google-api-core!=2.0.*,!=2.1.*,!=2.2.*,!=2.3.0,<3.0.0,>=1.31.5->google-api-python-client>=1.2->pydrive) (2.32.3)\n",
      "Requirement already satisfied: cachetools<6.0,>=2.0.0 in /Users/ctuwsunlab/Documents/GitHub/Mara_IMOD/.conda/lib/python3.10/site-packages (from google-auth!=2.24.0,!=2.25.0,<3.0.0,>=1.32.0->google-api-python-client>=1.2->pydrive) (5.5.2)\n",
      "Requirement already satisfied: pyparsing!=3.0.0,!=3.0.1,!=3.0.2,!=3.0.3,<4,>=2.4.2 in /Users/ctuwsunlab/Documents/GitHub/Mara_IMOD/.conda/lib/python3.10/site-packages (from httplib2<1.0.0,>=0.19.0->google-api-python-client>=1.2->pydrive) (3.2.2)\n",
      "Requirement already satisfied: charset-normalizer<4,>=2 in /Users/ctuwsunlab/Documents/GitHub/Mara_IMOD/.conda/lib/python3.10/site-packages (from requests<3.0.0,>=2.18.0->google-api-core!=2.0.*,!=2.1.*,!=2.2.*,!=2.3.0,<3.0.0,>=1.31.5->google-api-python-client>=1.2->pydrive) (3.4.1)\n",
      "Requirement already satisfied: idna<4,>=2.5 in /Users/ctuwsunlab/Documents/GitHub/Mara_IMOD/.conda/lib/python3.10/site-packages (from requests<3.0.0,>=2.18.0->google-api-core!=2.0.*,!=2.1.*,!=2.2.*,!=2.3.0,<3.0.0,>=1.31.5->google-api-python-client>=1.2->pydrive) (3.10)\n",
      "Requirement already satisfied: urllib3<3,>=1.21.1 in /Users/ctuwsunlab/Documents/GitHub/Mara_IMOD/.conda/lib/python3.10/site-packages (from requests<3.0.0,>=2.18.0->google-api-core!=2.0.*,!=2.1.*,!=2.2.*,!=2.3.0,<3.0.0,>=1.31.5->google-api-python-client>=1.2->pydrive) (2.3.0)\n",
      "Requirement already satisfied: certifi>=2017.4.17 in /Users/ctuwsunlab/Documents/GitHub/Mara_IMOD/.conda/lib/python3.10/site-packages (from requests<3.0.0,>=2.18.0->google-api-core!=2.0.*,!=2.1.*,!=2.2.*,!=2.3.0,<3.0.0,>=1.31.5->google-api-python-client>=1.2->pydrive) (2025.1.31)\n",
      "Downloading oauth2client-4.1.3-py2.py3-none-any.whl (98 kB)\n",
      "Downloading PyYAML-6.0.2-cp310-cp310-macosx_11_0_arm64.whl (171 kB)\n",
      "Building wheels for collected packages: pydrive\n",
      "  Building wheel for pydrive (setup.py) ... \u001b[?25ldone\n",
      "\u001b[?25h  Created wheel for pydrive: filename=PyDrive-1.3.1-py3-none-any.whl size=27492 sha256=4f026a5ccc2640a52804c821d6845e7d2aed7948f13917bd0535076e78bc49e7\n",
      "  Stored in directory: /Users/ctuwsunlab/Library/Caches/pip/wheels/63/79/df/924c22c080c9dac1a57f611baa837fe0bc3daec1500b27f23b\n",
      "Successfully built pydrive\n",
      "Installing collected packages: PyYAML, oauth2client, pydrive\n",
      "Successfully installed PyYAML-6.0.2 oauth2client-4.1.3 pydrive-1.3.1\n",
      "Note: you may need to restart the kernel to use updated packages.\n"
     ]
    }
   ],
   "source": [
    "pip install pydrive"
   ]
  }
 ],
 "metadata": {
  "kernelspec": {
   "display_name": "Python 3",
   "language": "python",
   "name": "python3"
  },
  "language_info": {
   "codemirror_mode": {
    "name": "ipython",
    "version": 3
   },
   "file_extension": ".py",
   "mimetype": "text/x-python",
   "name": "python",
   "nbconvert_exporter": "python",
   "pygments_lexer": "ipython3",
   "version": "3.10.16"
  }
 },
 "nbformat": 4,
 "nbformat_minor": 5
}
